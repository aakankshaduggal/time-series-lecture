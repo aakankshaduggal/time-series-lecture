{
 "cells": [
  {
   "cell_type": "markdown",
   "metadata": {},
   "source": [
    "# ARIMA and SARIMA on Cloud Cost Data\n",
    "\n",
    "In this notebook, we will be trying out ARIMA and SARIMA, two popular statistical method for time series forecasting on cloud cost data.\n",
    "\n",
    "* ARIMA is acronym for AutoRegressive Integrated Moving Average. It captures a suite of different standard temporal structures in time series data and provides simple yet very powerful method for making time series forecasts.\n",
    "* SARIMA is acronym for Seasonal AutoRegressive Integrated Moving Average. It is an extension of ARIMA that supports modelling of the seasonal component of the time series.\n"
   ]
  },
  {
   "cell_type": "markdown",
   "metadata": {
    "slideshow": {
     "slide_type": "slide"
    }
   },
   "source": [
    "### 1. Import the required python libraries and the dataset."
   ]
  },
  {
   "cell_type": "code",
   "execution_count": 1,
   "metadata": {},
   "outputs": [],
   "source": [
    "import pandas as pd\n",
    "import matplotlib.pyplot as plt\n",
    "from statsmodels.graphics.tsaplots import plot_acf, plot_pacf\n",
    "from statsmodels.tsa.arima_model import ARIMA\n",
    "from statsmodels.tsa.statespace.sarimax import SARIMAX\n",
    "import statsmodels.api as sm\n",
    "from sklearn import metrics\n",
    "import itertools\n",
    "import math\n",
    "import warnings\n",
    "warnings.filterwarnings(\"ignore\")"
   ]
  },
  {
   "cell_type": "code",
   "execution_count": 2,
   "metadata": {},
   "outputs": [],
   "source": [
    "df = pd.read_csv(\"../../data/cost_demo_data.csv\")\n",
    "df = df.rename(columns = {'usage_start' : \"Time\"})\n",
    "df = df.rename(columns = {'unblended_cost' : \"Cost\"})"
   ]
  },
  {
   "cell_type": "code",
   "execution_count": 3,
   "metadata": {},
   "outputs": [
    {
     "data": {
      "text/plain": [
       "(35, 2)"
      ]
     },
     "execution_count": 3,
     "metadata": {},
     "output_type": "execute_result"
    }
   ],
   "source": [
    "df.shape"
   ]
  },
  {
   "cell_type": "markdown",
   "metadata": {},
   "source": [
    "### 2. Split into Train and Test :\n",
    "Splitting the dataset into Train (80%) and Test(20%)"
   ]
  },
  {
   "cell_type": "code",
   "execution_count": 4,
   "metadata": {},
   "outputs": [
    {
     "name": "stdout",
     "output_type": "stream",
     "text": [
      "Train Data (28, 2)\n",
      "          Time  Cost\n",
      "23  2020-10-24  48.0\n",
      "24  2020-10-25  48.0\n",
      "25  2020-10-26  48.0\n",
      "26  2020-10-27  48.0\n",
      "27  2020-10-28  48.0\n",
      "Test Data (7, 2)\n",
      "          Time       Cost\n",
      "28  2020-10-29  48.000000\n",
      "29  2020-10-30  48.000000\n",
      "30  2020-10-31  48.000000\n",
      "31  2020-11-01  34.956652\n",
      "32  2020-11-02  35.074650\n"
     ]
    }
   ],
   "source": [
    "train = df[0:int(len(df)*0.8)] \n",
    "test = df[int(len(df)*0.8):]\n",
    "\n",
    "print(\"Train Data\",train.shape)\n",
    "print(train.tail())\n",
    "\n",
    "print(\"Test Data\",test.shape)\n",
    "print(test.head())\n",
    "\n",
    "train_time = [i+1 for i in range(len(train))]\n",
    "test_time = [i+29 for i in range(len(test))]"
   ]
  },
  {
   "cell_type": "markdown",
   "metadata": {},
   "source": [
    "### 3. Auto-correlation and Partial Auto-Correlation\n",
    "- Auto-correlation : \n",
    "    * Relationship of a variable with its previous time values.\n",
    "    * Direct and indirect effect of various in previous time values lags\n",
    "    \n",
    "- Partial Auto-correlation :\n",
    "    * Only direct effect of values in previous time lags\n",
    "    * Used to find the order for Auto Regression Model"
   ]
  },
  {
   "cell_type": "code",
   "execution_count": 5,
   "metadata": {},
   "outputs": [
    {
     "data": {
      "image/png": "[encoded data removed]",
      "text/plain": [
       "<Figure size 432x288 with 1 Axes>"
      ]
     },
     "metadata": {
      "needs_background": "light"
     },
     "output_type": "display_data"
    }
   ],
   "source": [
    "plot_acf(df['Cost'].diff().dropna())\n",
    "plt.ylabel(\"Pearson's Correlation coefficient\")\n",
    "plt.xlabel(\"Time Lag\")\n",
    "plt.show()"
   ]
  },
  {
   "cell_type": "code",
   "execution_count": 6,
   "metadata": {},
   "outputs": [
    {
     "data": {
      "image/png": "[encoded data removed]",
      "text/plain": [
       "<Figure size 432x288 with 1 Axes>"
      ]
     },
     "metadata": {
      "needs_background": "light"
     },
     "output_type": "display_data"
    }
   ],
   "source": [
    "plot_pacf(df['Cost'].diff().dropna())\n",
    "plt.ylabel(\"Pearson's Correlation coefficient\")\n",
    "plt.xlabel(\"Time Lag\")\n",
    "plt.show()"
   ]
  },
  {
   "cell_type": "markdown",
   "metadata": {},
   "source": [
    "The above values of Pearson's Correlation Coefficient allows us to choose the cut off points for Arima model. We can now choose the params p and q i.e. the order of the A(auto regression) and MA(moving average) model between the range 0,2. And the param d i.e. the order of differencing for non-stationary to stationary can be kept as 1 in order to make the above time series stationary."
   ]
  },
  {
   "cell_type": "markdown",
   "metadata": {},
   "source": [
    "### 4. Automated ARIMA model :\n",
    "'Auto Regressive Integrated Moving Average' is actually a class of models that 'explains' a given time series based on its own past values, that is, its own lags and the lagged forecast errors, so that equation can be used to forecast future values."
   ]
  },
  {
   "cell_type": "code",
   "execution_count": 7,
   "metadata": {},
   "outputs": [
    {
     "name": "stdout",
     "output_type": "stream",
     "text": [
      "Model: (0, 1, 1)\n",
      "Model: (1, 1, 0)\n",
      "Model: (1, 1, 1)\n",
      "Model: (2, 1, 0)\n",
      "Model: (2, 1, 1)\n"
     ]
    }
   ],
   "source": [
    "p =  range(0,3)\n",
    "q = range(0, 2)\n",
    "d = range(1,2)\n",
    "pdq = list(itertools.product(p, d, q))\n",
    "for i in range(1,len(pdq)):\n",
    "    print('Model: {}'.format(pdq[i]))"
   ]
  },
  {
   "cell_type": "code",
   "execution_count": 8,
   "metadata": {},
   "outputs": [],
   "source": [
    "arima_train = train.copy()\n",
    "arima_test = test.copy()\n",
    "arima_train[\"time\"] = [i+1 for i in range(len(arima_train))]\n",
    "arima_aic = pd.DataFrame(columns=['param','AIC'])"
   ]
  },
  {
   "cell_type": "code",
   "execution_count": 9,
   "metadata": {
    "scrolled": true
   },
   "outputs": [
    {
     "name": "stdout",
     "output_type": "stream",
     "text": [
      "ARIMA(0, 1, 0) - AIC 162.2310033941876 \n",
      "ARIMA(0, 1, 1) - AIC 164.1855352543388 \n",
      "ARIMA(1, 1, 0) - AIC 164.18942745220522 \n",
      "ARIMA(1, 1, 1) - AIC 164.58991487739405 \n",
      "ARIMA(2, 1, 0) - AIC 166.142388630554 \n",
      "ARIMA(2, 1, 1) - AIC 166.51036138262532 \n"
     ]
    }
   ],
   "source": [
    "for param in pdq:\n",
    "    arima_model = ARIMA(arima_train['Cost'].values, order=param).fit()\n",
    "    print('ARIMA{} - AIC {} '.format(param,arima_model.aic))\n",
    "    arima_aic = arima_aic.append({'param':param,'AIC': arima_model.aic}, ignore_index = True)"
   ]
  },
  {
   "cell_type": "code",
   "execution_count": 10,
   "metadata": {},
   "outputs": [
    {
     "data": {
      "text/html": [
       "<div>\n",
       "<style scoped>\n",
       "    .dataframe tbody tr th:only-of-type {\n",
       "        vertical-align: middle;\n",
       "    }\n",
       "\n",
       "    .dataframe tbody tr th {\n",
       "        vertical-align: top;\n",
       "    }\n",
       "\n",
       "    .dataframe thead th {\n",
       "        text-align: right;\n",
       "    }\n",
       "</style>\n",
       "<table border=\"1\" class=\"dataframe\">\n",
       "  <thead>\n",
       "    <tr style=\"text-align: right;\">\n",
       "      <th></th>\n",
       "      <th>param</th>\n",
       "      <th>AIC</th>\n",
       "    </tr>\n",
       "  </thead>\n",
       "  <tbody>\n",
       "    <tr>\n",
       "      <th>0</th>\n",
       "      <td>(0, 1, 0)</td>\n",
       "      <td>162.231003</td>\n",
       "    </tr>\n",
       "    <tr>\n",
       "      <th>1</th>\n",
       "      <td>(0, 1, 1)</td>\n",
       "      <td>164.185535</td>\n",
       "    </tr>\n",
       "    <tr>\n",
       "      <th>2</th>\n",
       "      <td>(1, 1, 0)</td>\n",
       "      <td>164.189427</td>\n",
       "    </tr>\n",
       "    <tr>\n",
       "      <th>3</th>\n",
       "      <td>(1, 1, 1)</td>\n",
       "      <td>164.589915</td>\n",
       "    </tr>\n",
       "    <tr>\n",
       "      <th>4</th>\n",
       "      <td>(2, 1, 0)</td>\n",
       "      <td>166.142389</td>\n",
       "    </tr>\n",
       "    <tr>\n",
       "      <th>5</th>\n",
       "      <td>(2, 1, 1)</td>\n",
       "      <td>166.510361</td>\n",
       "    </tr>\n",
       "  </tbody>\n",
       "</table>\n",
       "</div>"
      ],
      "text/plain": [
       "       param         AIC\n",
       "0  (0, 1, 0)  162.231003\n",
       "1  (0, 1, 1)  164.185535\n",
       "2  (1, 1, 0)  164.189427\n",
       "3  (1, 1, 1)  164.589915\n",
       "4  (2, 1, 0)  166.142389\n",
       "5  (2, 1, 1)  166.510361"
      ]
     },
     "execution_count": 10,
     "metadata": {},
     "output_type": "execute_result"
    }
   ],
   "source": [
    "arima_aic.sort_values(by='AIC', ascending=True)"
   ]
  },
  {
   "cell_type": "markdown",
   "metadata": {},
   "source": [
    "The Akaike Information Critera (AIC) is a widely used measure of a statistical model. It basically quantifies:\n",
    "1. the goodness of fit\n",
    "2. the simplicity/parsimony, of the model into a single statistic. When comparing two models, the one with the lower AIC is generally “better”. \n",
    "* We will choose the order with lowest AIC : (0,1,0)"
   ]
  },
  {
   "cell_type": "code",
   "execution_count": 11,
   "metadata": {},
   "outputs": [
    {
     "name": "stdout",
     "output_type": "stream",
     "text": [
      "                             ARIMA Model Results                              \n",
      "==============================================================================\n",
      "Dep. Variable:                 D.Cost   No. Observations:                   27\n",
      "Model:                 ARIMA(0, 1, 0)   Log Likelihood                 -79.116\n",
      "Method:                           css   S.D. of innovations              4.532\n",
      "Date:                Thu, 28 Jan 2021   AIC                            162.231\n",
      "Time:                        20:36:52   BIC                            164.823\n",
      "Sample:                             1   HQIC                           163.002\n",
      "                                                                              \n",
      "==============================================================================\n",
      "                 coef    std err          z      P>|z|      [0.025      0.975]\n",
      "------------------------------------------------------------------------------\n",
      "const         -0.8889      0.872     -1.019      0.308      -2.599       0.821\n",
      "==============================================================================\n"
     ]
    }
   ],
   "source": [
    "model = ARIMA(arima_train['Cost'], order=(0,1,0))\n",
    "arima_results = model.fit()\n",
    "print(arima_results.summary())"
   ]
  },
  {
   "cell_type": "code",
   "execution_count": 12,
   "metadata": {},
   "outputs": [],
   "source": [
    "arima_train['Predictions'] = arima_results.fittedvalues\n",
    "arima_train = arima_train.fillna(0)"
   ]
  },
  {
   "cell_type": "code",
   "execution_count": 13,
   "metadata": {},
   "outputs": [
    {
     "data": {
      "text/plain": [
       "array([47.11111111, 46.22222222, 45.33333333, 44.44444444, 43.55555556,\n",
       "       42.66666667, 41.77777778])"
      ]
     },
     "execution_count": 13,
     "metadata": {},
     "output_type": "execute_result"
    }
   ],
   "source": [
    "arima_predictions = arima_results.forecast(steps=len(test), alpha = 0.95)\n",
    "arima_predictions[0]"
   ]
  },
  {
   "cell_type": "code",
   "execution_count": 14,
   "metadata": {},
   "outputs": [
    {
     "name": "stdout",
     "output_type": "stream",
     "text": [
      "Mean Squared Error on Test Data is :  3429.33\n",
      "Mean Squared Error on Test Data is :  72.7\n",
      "Root Mean Squared Error on Train Data is :  58.56\n",
      "Root Mean Squared Error on Test Data is :  8.53\n"
     ]
    }
   ],
   "source": [
    "## Mean Squared Error :\n",
    "arima_mse_model_train = metrics.mean_squared_error(arima_train['Cost'], arima_train['Predictions'])\n",
    "print(\"Mean Squared Error on Test Data is : \", round(arima_mse_model_train, 2))\n",
    "arima_mse_model_test = metrics.mean_squared_error(arima_test['Cost'],arima_predictions[0])\n",
    "print(\"Mean Squared Error on Test Data is : \", round(arima_mse_model_test, 2))\n",
    "## Root Mean Squared Error :\n",
    "arima_rmse_train = math.sqrt(arima_mse_model_train)\n",
    "print(\"Root Mean Squared Error on Train Data is : \", round(arima_rmse_train, 2))\n",
    "arima_rmse_test = math.sqrt(arima_mse_model_test)\n",
    "print(\"Root Mean Squared Error on Test Data is : \", round(arima_rmse_test, 2))"
   ]
  },
  {
   "cell_type": "markdown",
   "metadata": {},
   "source": [
    "Although the data set has some seasonality and hence ARIMA is not the right option here. The reason behind developing the ARIMA model is to understand how different the model could be if seasonality is not considered."
   ]
  },
  {
   "cell_type": "code",
   "execution_count": 15,
   "metadata": {},
   "outputs": [
    {
     "data": {
      "image/png": "[encoded data removed]",
      "text/plain": [
       "<Figure size 1440x720 with 1 Axes>"
      ]
     },
     "metadata": {
      "needs_background": "light"
     },
     "output_type": "display_data"
    }
   ],
   "source": [
    "plt.figure(figsize=(20,10))\n",
    "plt.plot(arima_train['Cost'], label = \"Training Data\")\n",
    "plt.plot(arima_test['Cost'], label = \"Test Data\")\n",
    "plt.plot(arima_train['Predictions'], label = \"Predictions on Training Data\")\n",
    "plt.plot(test.index, arima_predictions[0], label = \"Predictions on test data\")\n",
    "plt.legend(loc = \"best\")\n",
    "plt.title(\"Auto Arima(0,1,0)\")\n",
    "plt.grid()"
   ]
  },
  {
   "cell_type": "code",
   "execution_count": 16,
   "metadata": {},
   "outputs": [
    {
     "data": {
      "text/plain": [
       "array([[46.82689504, 47.39532719],\n",
       "       [45.82027999, 46.62416445],\n",
       "       [44.84105665, 45.82561002],\n",
       "       [43.87601229, 45.01287659],\n",
       "       [42.92002909, 44.19108202],\n",
       "       [41.97048231, 43.36285103],\n",
       "       [41.02581272, 42.52974283]])"
      ]
     },
     "execution_count": 16,
     "metadata": {},
     "output_type": "execute_result"
    }
   ],
   "source": [
    "confidence_interval_arima = arima_predictions[2]\n",
    "confidence_interval_arima"
   ]
  },
  {
   "cell_type": "code",
   "execution_count": 17,
   "metadata": {},
   "outputs": [
    {
     "name": "stdout",
     "output_type": "stream",
     "text": [
      "\n",
      " Confidence Interval Error :  [0.2842160749928695, 0.4019422278993616, 0.4922766822154543, 0.568432149985739, 0.6355264639822309, 0.6961843604291289, 0.7519650530380133]\n"
     ]
    }
   ],
   "source": [
    "yerror = []\n",
    "for i in range(len(confidence_interval_arima)):\n",
    "    yerror.append((confidence_interval_arima[i][1] - confidence_interval_arima[i][0])/2)\n",
    "print(\"\\n Confidence Interval Error : \" , yerror)"
   ]
  },
  {
   "cell_type": "code",
   "execution_count": 18,
   "metadata": {},
   "outputs": [
    {
     "data": {
      "image/png": "[encoded data removed]",
      "text/plain": [
       "<Figure size 1440x1440 with 1 Axes>"
      ]
     },
     "metadata": {
      "needs_background": "light"
     },
     "output_type": "display_data"
    }
   ],
   "source": [
    "plt.figure(figsize=(20,20))\n",
    "plt.bar(df[\"Time\"], df[\"Cost\"], color = \"green\", zorder = 2, width = 0.4, alpha =0.5, label = \"Actual Costs\" )\n",
    "plt.bar(arima_test[\"Time\"],arima_predictions[0], color = \"yellow\", zorder =1, label = \"Predictions\")\n",
    "plt.errorbar(arima_test[\"Time\"],arima_predictions[0], yerr= yerror, fmt = ' ', elinewidth = 4, capsize = 5, label = \"Error\", color = \"red\")\n",
    "plt.xlabel(\"Time\")\n",
    "plt.ylabel(\"Cloud Costs\")\n",
    "plt.legend(loc = \"best\")\n",
    "plt.xticks(rotation = 90)\n",
    "plt.show()"
   ]
  },
  {
   "cell_type": "markdown",
   "metadata": {},
   "source": [
    "The above shown graph has the plot for the actual and predicted values with 5% error. Since the results aren't super accurate and do not account seasonality, we will move towards SARIMA that is an extension to ARIMA."
   ]
  },
  {
   "cell_type": "markdown",
   "metadata": {},
   "source": [
    "### 5. SARIMA model : \n",
    "After understanding the ARIMA model, we will be adding another parameter into ARIMA : S - seasonality. So, instead of transforming the \"Cost\" variable of our regression we can directly control the seasonality by including it as \"time\" feature. "
   ]
  },
  {
   "cell_type": "code",
   "execution_count": 19,
   "metadata": {},
   "outputs": [],
   "source": [
    "# m : The number of time steps for a single seasonal period. \n",
    "# For example, an S of 12 for monthly data suggests a yearly seasonal cycle.\n",
    "m = 3\n",
    "seasonal_pdq = [(x[0], x[1], x[2], m) for x in pdq]"
   ]
  },
  {
   "cell_type": "code",
   "execution_count": 20,
   "metadata": {},
   "outputs": [],
   "source": [
    "sarima_train = train.copy()\n",
    "sarima_test = test.copy()\n",
    "sarima_train[\"time\"] = [i+1 for i in range(len(sarima_train))]\n",
    "sarima_aic = pd.DataFrame(columns=['param','AIC'])"
   ]
  },
  {
   "cell_type": "code",
   "execution_count": 21,
   "metadata": {
    "scrolled": true
   },
   "outputs": [
    {
     "name": "stdout",
     "output_type": "stream",
     "text": [
      "ARIMA(0, 1, 0) x SARIMA(0, 1, 0, 3) - AIC 163.01787385562335 \n",
      "ARIMA(0, 1, 0) x SARIMA(0, 1, 1, 3) - AIC 152.14716137278577 \n",
      "ARIMA(0, 1, 0) x SARIMA(1, 1, 0, 3) - AIC 158.87190373278116 \n",
      "ARIMA(0, 1, 0) x SARIMA(1, 1, 1, 3) - AIC 154.1278881383684 \n",
      "ARIMA(0, 1, 0) x SARIMA(2, 1, 0, 3) - AIC 158.6493423109252 \n",
      "ARIMA(0, 1, 0) x SARIMA(2, 1, 1, 3) - AIC 156.0257495596291 \n",
      "ARIMA(0, 1, 1) x SARIMA(0, 1, 0, 3) - AIC 165.017873856268 \n",
      "ARIMA(0, 1, 1) x SARIMA(0, 1, 1, 3) - AIC 154.14715435790094 \n",
      "ARIMA(0, 1, 1) x SARIMA(1, 1, 0, 3) - AIC 160.8719037386052 \n",
      "ARIMA(0, 1, 1) x SARIMA(1, 1, 1, 3) - AIC 156.12795795862593 \n",
      "ARIMA(0, 1, 1) x SARIMA(2, 1, 0, 3) - AIC 160.64934230233246 \n",
      "ARIMA(0, 1, 1) x SARIMA(2, 1, 1, 3) - AIC 158.02576418002138 \n",
      "ARIMA(1, 1, 0) x SARIMA(0, 1, 0, 3) - AIC 165.0178738561525 \n",
      "ARIMA(1, 1, 0) x SARIMA(0, 1, 1, 3) - AIC 154.14716002139335 \n",
      "ARIMA(1, 1, 0) x SARIMA(1, 1, 0, 3) - AIC 160.87190373407765 \n",
      "ARIMA(1, 1, 0) x SARIMA(1, 1, 1, 3) - AIC 156.12789345700781 \n",
      "ARIMA(1, 1, 0) x SARIMA(2, 1, 0, 3) - AIC 160.6493423045449 \n",
      "ARIMA(1, 1, 0) x SARIMA(2, 1, 1, 3) - AIC 158.02575466680923 \n",
      "ARIMA(1, 1, 1) x SARIMA(0, 1, 0, 3) - AIC 167.0178738556699 \n",
      "ARIMA(1, 1, 1) x SARIMA(0, 1, 1, 3) - AIC 156.0044386074694 \n",
      "ARIMA(1, 1, 1) x SARIMA(1, 1, 0, 3) - AIC 162.87190373759432 \n",
      "ARIMA(1, 1, 1) x SARIMA(1, 1, 1, 3) - AIC 158.12789106897603 \n",
      "ARIMA(1, 1, 1) x SARIMA(2, 1, 0, 3) - AIC 162.64934230187185 \n",
      "ARIMA(1, 1, 1) x SARIMA(2, 1, 1, 3) - AIC 160.02574276240694 \n",
      "ARIMA(2, 1, 0) x SARIMA(0, 1, 0, 3) - AIC 167.01787385648043 \n",
      "ARIMA(2, 1, 0) x SARIMA(0, 1, 1, 3) - AIC 156.1471623984597 \n",
      "ARIMA(2, 1, 0) x SARIMA(1, 1, 0, 3) - AIC 162.871903738392 \n",
      "ARIMA(2, 1, 0) x SARIMA(1, 1, 1, 3) - AIC 158.1278939557984 \n",
      "ARIMA(2, 1, 0) x SARIMA(2, 1, 0, 3) - AIC 162.64934249582427 \n",
      "ARIMA(2, 1, 0) x SARIMA(2, 1, 1, 3) - AIC 160.02575540448925 \n",
      "ARIMA(2, 1, 1) x SARIMA(0, 1, 0, 3) - AIC 164.9584899266974 \n",
      "ARIMA(2, 1, 1) x SARIMA(0, 1, 1, 3) - AIC 157.97795173070278 \n",
      "ARIMA(2, 1, 1) x SARIMA(1, 1, 0, 3) - AIC 164.87190371971116 \n",
      "ARIMA(2, 1, 1) x SARIMA(1, 1, 1, 3) - AIC 160.12790667293407 \n",
      "ARIMA(2, 1, 1) x SARIMA(2, 1, 0, 3) - AIC 164.64934230141802 \n",
      "ARIMA(2, 1, 1) x SARIMA(2, 1, 1, 3) - AIC 162.02574342544636 \n"
     ]
    }
   ],
   "source": [
    "min_aic = 999\n",
    "for order in pdq:\n",
    "    for param in seasonal_pdq:\n",
    "        sarima_model = SARIMAX(arima_train['Cost'].values,order = order, seasonal_order=param).fit()\n",
    "        print('ARIMA{} x SARIMA{} - AIC {} '.format(order,param,sarima_model.aic))\n",
    "        if sarima_model.aic < min_aic:\n",
    "            min_aic = sarima_model.aic\n",
    "            min_aic_model = sarima_model\n",
    "            min_order = order\n",
    "            min_param = param\n",
    "        sarima_aic = sarima_aic.append({'param':param,'AIC': sarima_model.aic}, ignore_index = True)"
   ]
  },
  {
   "cell_type": "code",
   "execution_count": 22,
   "metadata": {},
   "outputs": [
    {
     "name": "stdout",
     "output_type": "stream",
     "text": [
      "\n",
      " Order : (0, 1, 0) \n",
      " Seasonal Order : (0, 1, 1, 3) \n",
      " Minimum AIC : 152.14716137278577\n"
     ]
    }
   ],
   "source": [
    "sarima_aic.sort_values(by='AIC', ascending=True)\n",
    "print(\"\\n Order :\", min_order,\"\\n\",\"Seasonal Order :\", min_param,\"\\n\", \"Minimum AIC :\" ,min_aic)"
   ]
  },
  {
   "cell_type": "markdown",
   "metadata": {},
   "source": [
    "The Akaike Information Critera (AIC) is a widely used measure of a statistical model. It basically quantifies the simplicity/parsimony, of the model into a single statistic. When comparing two models, the one with the lower AIC is generally “better”. \n",
    "* We will choose the order with lowest AIC : ARIMA(0, 1, 0) x SARIMA(0, 1, 1, 3) - AIC 152.14716137278577 "
   ]
  },
  {
   "cell_type": "code",
   "execution_count": 23,
   "metadata": {},
   "outputs": [
    {
     "data": {
      "text/html": [
       "<table class=\"simpletable\">\n",
       "<caption>SARIMAX Results</caption>\n",
       "<tr>\n",
       "  <th>Dep. Variable:</th>                  <td>y</td>                <th>  No. Observations:  </th>   <td>28</td>   \n",
       "</tr>\n",
       "<tr>\n",
       "  <th>Model:</th>           <td>SARIMAX(0, 1, 0)x(0, 1, [1], 3)</td> <th>  Log Likelihood     </th> <td>-74.074</td>\n",
       "</tr>\n",
       "<tr>\n",
       "  <th>Date:</th>                   <td>Thu, 28 Jan 2021</td>         <th>  AIC                </th> <td>152.147</td>\n",
       "</tr>\n",
       "<tr>\n",
       "  <th>Time:</th>                       <td>20:36:58</td>             <th>  BIC                </th> <td>154.503</td>\n",
       "</tr>\n",
       "<tr>\n",
       "  <th>Sample:</th>                         <td>0</td>                <th>  HQIC               </th> <td>152.772</td>\n",
       "</tr>\n",
       "<tr>\n",
       "  <th></th>                              <td> - 28</td>              <th>                     </th>    <td> </td>   \n",
       "</tr>\n",
       "<tr>\n",
       "  <th>Covariance Type:</th>               <td>opg</td>               <th>                     </th>    <td> </td>   \n",
       "</tr>\n",
       "</table>\n",
       "<table class=\"simpletable\">\n",
       "<tr>\n",
       "     <td></td>        <th>coef</th>     <th>std err</th>      <th>z</th>      <th>P>|z|</th>  <th>[0.025</th>    <th>0.975]</th>  \n",
       "</tr>\n",
       "<tr>\n",
       "  <th>ma.S.L3</th> <td>   -0.9994</td> <td>  145.368</td> <td>   -0.007</td> <td> 0.995</td> <td> -285.916</td> <td>  283.918</td>\n",
       "</tr>\n",
       "<tr>\n",
       "  <th>sigma2</th>  <td>   21.3529</td> <td> 3101.434</td> <td>    0.007</td> <td> 0.995</td> <td>-6057.346</td> <td> 6100.052</td>\n",
       "</tr>\n",
       "</table>\n",
       "<table class=\"simpletable\">\n",
       "<tr>\n",
       "  <th>Ljung-Box (L1) (Q):</th>     <td>0.00</td> <th>  Jarque-Bera (JB):  </th> <td>250.07</td>\n",
       "</tr>\n",
       "<tr>\n",
       "  <th>Prob(Q):</th>                <td>1.00</td> <th>  Prob(JB):          </th>  <td>0.00</td> \n",
       "</tr>\n",
       "<tr>\n",
       "  <th>Heteroskedasticity (H):</th> <td>0.04</td> <th>  Skew:              </th>  <td>-3.62</td>\n",
       "</tr>\n",
       "<tr>\n",
       "  <th>Prob(H) (two-sided):</th>    <td>0.00</td> <th>  Kurtosis:          </th>  <td>17.06</td>\n",
       "</tr>\n",
       "</table><br/><br/>Warnings:<br/>[1] Covariance matrix calculated using the outer product of gradients (complex-step)."
      ],
      "text/plain": [
       "<class 'statsmodels.iolib.summary.Summary'>\n",
       "\"\"\"\n",
       "                                      SARIMAX Results                                      \n",
       "===========================================================================================\n",
       "Dep. Variable:                                   y   No. Observations:                   28\n",
       "Model:             SARIMAX(0, 1, 0)x(0, 1, [1], 3)   Log Likelihood                 -74.074\n",
       "Date:                             Thu, 28 Jan 2021   AIC                            152.147\n",
       "Time:                                     20:36:58   BIC                            154.503\n",
       "Sample:                                          0   HQIC                           152.772\n",
       "                                              - 28                                         \n",
       "Covariance Type:                               opg                                         \n",
       "==============================================================================\n",
       "                 coef    std err          z      P>|z|      [0.025      0.975]\n",
       "------------------------------------------------------------------------------\n",
       "ma.S.L3       -0.9994    145.368     -0.007      0.995    -285.916     283.918\n",
       "sigma2        21.3529   3101.434      0.007      0.995   -6057.346    6100.052\n",
       "===================================================================================\n",
       "Ljung-Box (L1) (Q):                   0.00   Jarque-Bera (JB):               250.07\n",
       "Prob(Q):                              1.00   Prob(JB):                         0.00\n",
       "Heteroskedasticity (H):               0.04   Skew:                            -3.62\n",
       "Prob(H) (two-sided):                  0.00   Kurtosis:                        17.06\n",
       "===================================================================================\n",
       "\n",
       "Warnings:\n",
       "[1] Covariance matrix calculated using the outer product of gradients (complex-step).\n",
       "\"\"\""
      ]
     },
     "execution_count": 23,
     "metadata": {},
     "output_type": "execute_result"
    }
   ],
   "source": [
    "min_aic_model.summary()"
   ]
  },
  {
   "cell_type": "code",
   "execution_count": 24,
   "metadata": {},
   "outputs": [
    {
     "data": {
      "text/html": [
       "<div>\n",
       "<style scoped>\n",
       "    .dataframe tbody tr th:only-of-type {\n",
       "        vertical-align: middle;\n",
       "    }\n",
       "\n",
       "    .dataframe tbody tr th {\n",
       "        vertical-align: top;\n",
       "    }\n",
       "\n",
       "    .dataframe thead th {\n",
       "        text-align: right;\n",
       "    }\n",
       "</style>\n",
       "<table border=\"1\" class=\"dataframe\">\n",
       "  <thead>\n",
       "    <tr style=\"text-align: right;\">\n",
       "      <th></th>\n",
       "      <th>Time</th>\n",
       "      <th>Cost</th>\n",
       "      <th>time</th>\n",
       "      <th>Predictions</th>\n",
       "    </tr>\n",
       "  </thead>\n",
       "  <tbody>\n",
       "    <tr>\n",
       "      <th>0</th>\n",
       "      <td>2020-10-01</td>\n",
       "      <td>72.0</td>\n",
       "      <td>1</td>\n",
       "      <td>0.000000</td>\n",
       "    </tr>\n",
       "    <tr>\n",
       "      <th>1</th>\n",
       "      <td>2020-10-02</td>\n",
       "      <td>72.0</td>\n",
       "      <td>2</td>\n",
       "      <td>72.000000</td>\n",
       "    </tr>\n",
       "    <tr>\n",
       "      <th>2</th>\n",
       "      <td>2020-10-03</td>\n",
       "      <td>72.0</td>\n",
       "      <td>3</td>\n",
       "      <td>72.000000</td>\n",
       "    </tr>\n",
       "    <tr>\n",
       "      <th>3</th>\n",
       "      <td>2020-10-04</td>\n",
       "      <td>72.0</td>\n",
       "      <td>4</td>\n",
       "      <td>108.000000</td>\n",
       "    </tr>\n",
       "    <tr>\n",
       "      <th>4</th>\n",
       "      <td>2020-10-05</td>\n",
       "      <td>72.0</td>\n",
       "      <td>5</td>\n",
       "      <td>72.000000</td>\n",
       "    </tr>\n",
       "    <tr>\n",
       "      <th>5</th>\n",
       "      <td>2020-10-06</td>\n",
       "      <td>72.0</td>\n",
       "      <td>6</td>\n",
       "      <td>72.000000</td>\n",
       "    </tr>\n",
       "    <tr>\n",
       "      <th>6</th>\n",
       "      <td>2020-10-07</td>\n",
       "      <td>72.0</td>\n",
       "      <td>7</td>\n",
       "      <td>72.001536</td>\n",
       "    </tr>\n",
       "    <tr>\n",
       "      <th>7</th>\n",
       "      <td>2020-10-08</td>\n",
       "      <td>72.0</td>\n",
       "      <td>8</td>\n",
       "      <td>72.000000</td>\n",
       "    </tr>\n",
       "    <tr>\n",
       "      <th>8</th>\n",
       "      <td>2020-10-09</td>\n",
       "      <td>72.0</td>\n",
       "      <td>9</td>\n",
       "      <td>72.000000</td>\n",
       "    </tr>\n",
       "    <tr>\n",
       "      <th>9</th>\n",
       "      <td>2020-10-10</td>\n",
       "      <td>72.0</td>\n",
       "      <td>10</td>\n",
       "      <td>72.000768</td>\n",
       "    </tr>\n",
       "    <tr>\n",
       "      <th>10</th>\n",
       "      <td>2020-10-11</td>\n",
       "      <td>48.0</td>\n",
       "      <td>11</td>\n",
       "      <td>72.000000</td>\n",
       "    </tr>\n",
       "    <tr>\n",
       "      <th>11</th>\n",
       "      <td>2020-10-12</td>\n",
       "      <td>48.0</td>\n",
       "      <td>12</td>\n",
       "      <td>48.000000</td>\n",
       "    </tr>\n",
       "    <tr>\n",
       "      <th>12</th>\n",
       "      <td>2020-10-13</td>\n",
       "      <td>48.0</td>\n",
       "      <td>13</td>\n",
       "      <td>48.000512</td>\n",
       "    </tr>\n",
       "    <tr>\n",
       "      <th>13</th>\n",
       "      <td>2020-10-14</td>\n",
       "      <td>48.0</td>\n",
       "      <td>14</td>\n",
       "      <td>42.000024</td>\n",
       "    </tr>\n",
       "    <tr>\n",
       "      <th>14</th>\n",
       "      <td>2020-10-15</td>\n",
       "      <td>48.0</td>\n",
       "      <td>15</td>\n",
       "      <td>48.000000</td>\n",
       "    </tr>\n",
       "    <tr>\n",
       "      <th>15</th>\n",
       "      <td>2020-10-16</td>\n",
       "      <td>48.0</td>\n",
       "      <td>16</td>\n",
       "      <td>48.000384</td>\n",
       "    </tr>\n",
       "    <tr>\n",
       "      <th>16</th>\n",
       "      <td>2020-10-17</td>\n",
       "      <td>48.0</td>\n",
       "      <td>17</td>\n",
       "      <td>43.200017</td>\n",
       "    </tr>\n",
       "    <tr>\n",
       "      <th>17</th>\n",
       "      <td>2020-10-18</td>\n",
       "      <td>48.0</td>\n",
       "      <td>18</td>\n",
       "      <td>48.000000</td>\n",
       "    </tr>\n",
       "    <tr>\n",
       "      <th>18</th>\n",
       "      <td>2020-10-19</td>\n",
       "      <td>48.0</td>\n",
       "      <td>19</td>\n",
       "      <td>48.000307</td>\n",
       "    </tr>\n",
       "    <tr>\n",
       "      <th>19</th>\n",
       "      <td>2020-10-20</td>\n",
       "      <td>48.0</td>\n",
       "      <td>20</td>\n",
       "      <td>44.000014</td>\n",
       "    </tr>\n",
       "    <tr>\n",
       "      <th>20</th>\n",
       "      <td>2020-10-21</td>\n",
       "      <td>48.0</td>\n",
       "      <td>21</td>\n",
       "      <td>48.000000</td>\n",
       "    </tr>\n",
       "    <tr>\n",
       "      <th>21</th>\n",
       "      <td>2020-10-22</td>\n",
       "      <td>48.0</td>\n",
       "      <td>22</td>\n",
       "      <td>48.000256</td>\n",
       "    </tr>\n",
       "    <tr>\n",
       "      <th>22</th>\n",
       "      <td>2020-10-23</td>\n",
       "      <td>48.0</td>\n",
       "      <td>23</td>\n",
       "      <td>44.571442</td>\n",
       "    </tr>\n",
       "    <tr>\n",
       "      <th>23</th>\n",
       "      <td>2020-10-24</td>\n",
       "      <td>48.0</td>\n",
       "      <td>24</td>\n",
       "      <td>48.000000</td>\n",
       "    </tr>\n",
       "    <tr>\n",
       "      <th>24</th>\n",
       "      <td>2020-10-25</td>\n",
       "      <td>48.0</td>\n",
       "      <td>25</td>\n",
       "      <td>48.000219</td>\n",
       "    </tr>\n",
       "    <tr>\n",
       "      <th>25</th>\n",
       "      <td>2020-10-26</td>\n",
       "      <td>48.0</td>\n",
       "      <td>26</td>\n",
       "      <td>45.000013</td>\n",
       "    </tr>\n",
       "    <tr>\n",
       "      <th>26</th>\n",
       "      <td>2020-10-27</td>\n",
       "      <td>48.0</td>\n",
       "      <td>27</td>\n",
       "      <td>48.000000</td>\n",
       "    </tr>\n",
       "    <tr>\n",
       "      <th>27</th>\n",
       "      <td>2020-10-28</td>\n",
       "      <td>48.0</td>\n",
       "      <td>28</td>\n",
       "      <td>48.000192</td>\n",
       "    </tr>\n",
       "  </tbody>\n",
       "</table>\n",
       "</div>"
      ],
      "text/plain": [
       "          Time  Cost  time  Predictions\n",
       "0   2020-10-01  72.0     1     0.000000\n",
       "1   2020-10-02  72.0     2    72.000000\n",
       "2   2020-10-03  72.0     3    72.000000\n",
       "3   2020-10-04  72.0     4   108.000000\n",
       "4   2020-10-05  72.0     5    72.000000\n",
       "5   2020-10-06  72.0     6    72.000000\n",
       "6   2020-10-07  72.0     7    72.001536\n",
       "7   2020-10-08  72.0     8    72.000000\n",
       "8   2020-10-09  72.0     9    72.000000\n",
       "9   2020-10-10  72.0    10    72.000768\n",
       "10  2020-10-11  48.0    11    72.000000\n",
       "11  2020-10-12  48.0    12    48.000000\n",
       "12  2020-10-13  48.0    13    48.000512\n",
       "13  2020-10-14  48.0    14    42.000024\n",
       "14  2020-10-15  48.0    15    48.000000\n",
       "15  2020-10-16  48.0    16    48.000384\n",
       "16  2020-10-17  48.0    17    43.200017\n",
       "17  2020-10-18  48.0    18    48.000000\n",
       "18  2020-10-19  48.0    19    48.000307\n",
       "19  2020-10-20  48.0    20    44.000014\n",
       "20  2020-10-21  48.0    21    48.000000\n",
       "21  2020-10-22  48.0    22    48.000256\n",
       "22  2020-10-23  48.0    23    44.571442\n",
       "23  2020-10-24  48.0    24    48.000000\n",
       "24  2020-10-25  48.0    25    48.000219\n",
       "25  2020-10-26  48.0    26    45.000013\n",
       "26  2020-10-27  48.0    27    48.000000\n",
       "27  2020-10-28  48.0    28    48.000192"
      ]
     },
     "execution_count": 24,
     "metadata": {},
     "output_type": "execute_result"
    }
   ],
   "source": [
    "sarima_train[\"Predictions\"] = min_aic_model.fittedvalues\n",
    "sarima_train"
   ]
  },
  {
   "cell_type": "code",
   "execution_count": 25,
   "metadata": {},
   "outputs": [
    {
     "data": {
      "text/plain": [
       "<statsmodels.tsa.statespace.mlemodel.PredictionResultsWrapper at 0x7fb2c672bb70>"
      ]
     },
     "execution_count": 25,
     "metadata": {},
     "output_type": "execute_result"
    }
   ],
   "source": [
    "sarima_forecast = min_aic_model.get_forecast(steps = len(test))\n",
    "sarima_forecast"
   ]
  },
  {
   "cell_type": "code",
   "execution_count": 26,
   "metadata": {},
   "outputs": [],
   "source": [
    "sarima_predictions = min_aic_model.forecast(steps = len(test))"
   ]
  },
  {
   "cell_type": "code",
   "execution_count": 27,
   "metadata": {},
   "outputs": [
    {
     "name": "stdout",
     "output_type": "stream",
     "text": [
      "Mean Squared Error on Test Data is :  255.42\n",
      "Mean Squared Error on Test Data is :  76.76\n",
      "Root Mean Squared Error on Train Data is :  15.98\n",
      "Root Mean Squared Error on Test Data is :  8.76\n"
     ]
    }
   ],
   "source": [
    "## Mean Squared Error :\n",
    "sarima_mse_model_train = metrics.mean_squared_error(sarima_train['Cost'], sarima_train['Predictions'])\n",
    "print(\"Mean Squared Error on Test Data is : \", round(sarima_mse_model_train, 2))\n",
    "sarima_mse_model_test = metrics.mean_squared_error(sarima_test['Cost'],sarima_predictions)\n",
    "print(\"Mean Squared Error on Test Data is : \", round(sarima_mse_model_test, 2))\n",
    "## Root Mean Squared Error :\n",
    "sarima_rmse_train = math.sqrt(sarima_mse_model_train)\n",
    "print(\"Root Mean Squared Error on Train Data is : \", round(sarima_rmse_train, 2))\n",
    "sarima_rmse_test = math.sqrt(sarima_mse_model_test)\n",
    "print(\"Root Mean Squared Error on Test Data is : \", round(sarima_rmse_test, 2))"
   ]
  },
  {
   "cell_type": "code",
   "execution_count": 28,
   "metadata": {},
   "outputs": [
    {
     "data": {
      "image/png": "[encoded data removed]",
      "text/plain": [
       "<Figure size 1440x720 with 1 Axes>"
      ]
     },
     "metadata": {
      "needs_background": "light"
     },
     "output_type": "display_data"
    }
   ],
   "source": [
    "plt.figure(figsize=(20,10))\n",
    "plt.plot(sarima_train['Cost'], label = \"Training Data\")\n",
    "plt.plot(sarima_test['Cost'], label = \"Test Data\")\n",
    "plt.plot(sarima_train['Predictions'], label = \"Predictions on Training Data\")\n",
    "plt.plot(test.index, sarima_predictions, label = \"Predictions on test data\")\n",
    "plt.legend(loc = \"best\")\n",
    "plt.title(\"SARIMAX(0, 1, 0)x(0, 1, [1], 3)\")\n",
    "plt.grid()"
   ]
  },
  {
   "cell_type": "code",
   "execution_count": 29,
   "metadata": {},
   "outputs": [
    {
     "name": "stdout",
     "output_type": "stream",
     "text": [
      "[[45.02800533 45.63868917]\n",
      " [44.90152857 45.76516593]\n",
      " [44.80465027 45.86238566]\n",
      " [42.04110035 43.29263008]\n",
      " [41.95731445 43.37641598]\n",
      " [41.88259801 43.45147384]\n",
      " [39.13674525 40.86402111]]\n",
      "\n",
      " Confidence Interval Error :  [0.30534191831122826, 0.4318186820367629, 0.5288676952967748, 0.6257648622715664, 0.7095507639196725, 0.7844379159550741, 0.8636379273446906]\n"
     ]
    },
    {
     "data": {
      "text/plain": [
       "array([45.33334725, 45.33334725, 45.33351796, 42.66686522, 42.66686522,\n",
       "       42.66703593, 40.00038318])"
      ]
     },
     "execution_count": 29,
     "metadata": {},
     "output_type": "execute_result"
    }
   ],
   "source": [
    "confidence_interval = sarima_forecast.conf_int(alpha = 0.95)\n",
    "print(confidence_interval)\n",
    "yerror = []\n",
    "for i in range(len(confidence_interval)):\n",
    "    yerror.append((confidence_interval[i][1] - confidence_interval[i][0])/2)\n",
    "print(\"\\n Confidence Interval Error : \" , yerror)\n",
    "sarima_predictions"
   ]
  },
  {
   "cell_type": "code",
   "execution_count": 30,
   "metadata": {},
   "outputs": [
    {
     "data": {
      "image/png": "[encoded data removed]",
      "text/plain": [
       "<Figure size 1440x1440 with 1 Axes>"
      ]
     },
     "metadata": {
      "needs_background": "light"
     },
     "output_type": "display_data"
    }
   ],
   "source": [
    "plt.figure(figsize=(20,20))\n",
    "plt.bar(df[\"Time\"], df[\"Cost\"], color = \"green\", zorder = 2, width = 0.4, alpha =0.5, label = \"Actual Costs\" )\n",
    "plt.bar(sarima_test[\"Time\"],sarima_predictions, color = \"yellow\", zorder =1, label = \"Predictions\")\n",
    "plt.errorbar(sarima_test[\"Time\"],sarima_predictions, yerr= yerror, fmt = ' ', elinewidth = 4, capsize = 5, label = \"Error\", color = \"red\")\n",
    "plt.xlabel(\"Time\")\n",
    "plt.ylabel(\"Cloud Costs\")\n",
    "plt.legend(loc = \"best\")\n",
    "plt.xticks(rotation = 90)\n",
    "plt.show()"
   ]
  },
  {
   "cell_type": "markdown",
   "metadata": {},
   "source": [
    "### 6. Conclusion\n",
    "* In this notebook, we have used two statistical methods ARIMA and SARIMA.\n",
    "* The results for SARIMA are better than ARIMA and previously built Linear Regression model.\n",
    "* Also added confidence intervals for 95% to the predicted value for each day. "
   ]
  },
  {
   "cell_type": "code",
   "execution_count": null,
   "metadata": {},
   "outputs": [],
   "source": []
  }
 ],
 "metadata": {
  "kernelspec": {
   "display_name": "Python 3",
   "language": "python",
   "name": "python3"
  },
  "language_info": {
   "codemirror_mode": {
    "name": "ipython",
    "version": 3
   },
   "file_extension": ".py",
   "mimetype": "text/x-python",
   "name": "python",
   "nbconvert_exporter": "python",
   "pygments_lexer": "ipython3",
   "version": "3.6.3"
  }
 },
 "nbformat": 4,
 "nbformat_minor": 2
}
